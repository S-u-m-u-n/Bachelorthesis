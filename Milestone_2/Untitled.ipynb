{
 "cells": [
  {
   "cell_type": "code",
   "execution_count": 3,
   "metadata": {},
   "outputs": [],
   "source": [
    "import dace\n",
    "from dace.transformation.interstate import GPUTransformSDFG, StateFusion\n",
    "from dace.transformation.dataflow import MapTiling, InLocalStorage, MapExpansion, MapCollapse\n",
    "from dace.transformation.optimizer import Optimizer\n",
    "from dace.transformation import helpers as xfutil\n",
    "\n",
    "M = dace.symbol('M')\n",
    "N = dace.symbol('N')\n",
    "K = dace.symbol('K')\n",
    "alpha = dace.symbol('alpha')\n",
    "beta = dace.symbol('beta')\n",
    "\n",
    "@dace.program\n",
    "def matmul(A: dace.float64[M, K], B: dace.float64[K, N], C: dace.float64[M, N], alpha: dace.float64, beta: dace.float64):\n",
    "    return alpha * (A @ B) + beta * C\n",
    "\n",
    "M = 640\n",
    "N = 640\n",
    "K = 640\n",
    "beta = 1\n",
    "alpha = 1"
   ]
  },
  {
   "cell_type": "code",
   "execution_count": null,
   "metadata": {},
   "outputs": [],
   "source": [
    "sdfg = matmul.to_sdfg()\n",
    "sdfg.expand_library_nodes()\n",
    "sdfg.apply_transformations(GPUTransformSDFG)"
   ]
  }
 ],
 "metadata": {
  "kernelspec": {
   "display_name": "Python 3",
   "language": "python",
   "name": "python3"
  },
  "language_info": {
   "codemirror_mode": {
    "name": "ipython",
    "version": 3
   },
   "file_extension": ".py",
   "mimetype": "text/x-python",
   "name": "python",
   "nbconvert_exporter": "python",
   "pygments_lexer": "ipython3",
   "version": "3.8.10"
  }
 },
 "nbformat": 4,
 "nbformat_minor": 4
}
